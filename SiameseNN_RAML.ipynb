{
  "nbformat": 4,
  "nbformat_minor": 0,
  "metadata": {
    "kernelspec": {
      "language": "python",
      "display_name": "Python 3",
      "name": "python3"
    },
    "language_info": {
      "name": "python",
      "version": "3.7.10",
      "mimetype": "text/x-python",
      "codemirror_mode": {
        "name": "ipython",
        "version": 3
      },
      "pygments_lexer": "ipython3",
      "nbconvert_exporter": "python",
      "file_extension": ".py"
    },
    "colab": {
      "name": "SiameseNN_RAML.ipynb",
      "provenance": [],
      "collapsed_sections": []
    },
    "accelerator": "GPU"
  },
  "cells": [
    {
      "cell_type": "markdown",
      "metadata": {
        "id": "gxiEcM4EdvGT"
      },
      "source": [
        "Dataset in Google Drive"
      ]
    },
    {
      "cell_type": "code",
      "metadata": {
        "colab": {
          "base_uri": "https://localhost:8080/"
        },
        "id": "T_oSczoF2seI",
        "outputId": "2345cd8e-c77a-4c48-fd3e-6abf10ce5096"
      },
      "source": [
        "from google.colab import drive\n",
        "drive.mount('/content/drive')"
      ],
      "execution_count": 1,
      "outputs": [
        {
          "output_type": "stream",
          "text": [
            "Mounted at /content/drive\n"
          ],
          "name": "stdout"
        }
      ]
    },
    {
      "cell_type": "markdown",
      "metadata": {
        "id": "PDzfM5tPd8P8"
      },
      "source": [
        "Unzipping the data"
      ]
    },
    {
      "cell_type": "code",
      "metadata": {
        "id": "7v_Wd1iz2jnx"
      },
      "source": [
        "!unzip \"/content/drive/MyDrive/archive.zip\""
      ],
      "execution_count": null,
      "outputs": []
    },
    {
      "cell_type": "code",
      "metadata": {
        "execution": {
          "iopub.status.busy": "2021-06-25T13:31:20.076884Z",
          "iopub.execute_input": "2021-06-25T13:31:20.077328Z",
          "iopub.status.idle": "2021-06-25T13:31:20.092654Z",
          "shell.execute_reply.started": "2021-06-25T13:31:20.077294Z",
          "shell.execute_reply": "2021-06-25T13:31:20.091623Z"
        },
        "trusted": true,
        "id": "B-GcEa0A2fYj"
      },
      "source": [
        "import sys\n",
        "import numpy as np\n",
        "import pickle\n",
        "import os\n",
        "import matplotlib.pyplot as plt\n",
        "%matplotlib inline\n",
        "\n",
        "# Load the TensorBoard notebook extension\n",
        "%load_ext tensorboard\n",
        "\n",
        "\n",
        "import cv2\n",
        "import time\n",
        "import itertools\n",
        "import random\n",
        "\n",
        "from sklearn.utils import shuffle\n",
        "import seaborn as sn\n",
        "import pandas as pd\n",
        "\n",
        "import tensorflow as tf\n",
        "from keras.models import Sequential\n",
        "from keras.optimizers import Adam, RMSprop\n",
        "from keras.layers import Conv2D, ZeroPadding2D, Activation, Input, concatenate, Dropout\n",
        "from keras.models import Model\n",
        "\n",
        "from keras.layers.normalization import BatchNormalization\n",
        "from keras.layers.pooling import MaxPooling2D, AveragePooling2D\n",
        "from keras.layers.merge import Concatenate\n",
        "from keras.layers.core import Lambda, Flatten, Dense\n",
        "from keras.initializers import glorot_uniform\n",
        "from keras.utils.vis_utils import plot_model\n",
        "\n",
        "from keras.engine.topology import Layer\n",
        "from keras.regularizers import l2\n",
        "from keras import backend as K\n",
        "from keras.callbacks import EarlyStopping, ModelCheckpoint, ReduceLROnPlateau"
      ],
      "execution_count": 3,
      "outputs": []
    },
    {
      "cell_type": "code",
      "metadata": {
        "execution": {
          "iopub.status.busy": "2021-06-25T13:31:20.576182Z",
          "iopub.execute_input": "2021-06-25T13:31:20.576537Z",
          "iopub.status.idle": "2021-06-25T13:31:20.584096Z",
          "shell.execute_reply.started": "2021-06-25T13:31:20.576511Z",
          "shell.execute_reply": "2021-06-25T13:31:20.583105Z"
        },
        "trusted": true,
        "colab": {
          "base_uri": "https://localhost:8080/"
        },
        "id": "lEXAwbdk2fYz",
        "outputId": "4c746487-c721-4952-d521-bbc3db9f43a2"
      },
      "source": [
        "# Checking Keras version\n",
        "import keras\n",
        "print(keras.__version__)"
      ],
      "execution_count": 4,
      "outputs": [
        {
          "output_type": "stream",
          "text": [
            "2.5.0\n"
          ],
          "name": "stdout"
        }
      ]
    },
    {
      "cell_type": "code",
      "metadata": {
        "execution": {
          "iopub.status.busy": "2021-06-25T13:31:20.094375Z",
          "iopub.execute_input": "2021-06-25T13:31:20.094889Z",
          "iopub.status.idle": "2021-06-25T13:31:20.112832Z",
          "shell.execute_reply.started": "2021-06-25T13:31:20.094838Z",
          "shell.execute_reply": "2021-06-25T13:31:20.111784Z"
        },
        "trusted": true,
        "colab": {
          "base_uri": "https://localhost:8080/"
        },
        "id": "gxewxLgR2fYo",
        "outputId": "fd8504a2-4fd2-4bb9-bb63-3eb6d15fe345"
      },
      "source": [
        "# Mapping dev to GPU\n",
        "sess = tf.compat.v1.Session(config=tf.compat.v1.ConfigProto(log_device_placement=True))"
      ],
      "execution_count": 5,
      "outputs": [
        {
          "output_type": "stream",
          "text": [
            "Device mapping:\n",
            "/job:localhost/replica:0/task:0/device:GPU:0 -> device: 0, name: Tesla T4, pci bus id: 0000:00:04.0, compute capability: 7.5\n",
            "\n"
          ],
          "name": "stdout"
        }
      ]
    },
    {
      "cell_type": "code",
      "metadata": {
        "execution": {
          "iopub.status.busy": "2021-06-25T13:31:20.115317Z",
          "iopub.execute_input": "2021-06-25T13:31:20.115973Z",
          "iopub.status.idle": "2021-06-25T13:31:20.122481Z",
          "shell.execute_reply.started": "2021-06-25T13:31:20.115861Z",
          "shell.execute_reply": "2021-06-25T13:31:20.121550Z"
        },
        "trusted": true,
        "id": "pBQYO_sf2fYq"
      },
      "source": [
        "# Path to Hindi and Bengali datasets (Comment the one you don't need)\n",
        "path = \"/content/BHSig260/Hindi/\"\n",
        "#path = \"/content/BHSig260/Bengali/\""
      ],
      "execution_count": 6,
      "outputs": []
    },
    {
      "cell_type": "code",
      "metadata": {
        "execution": {
          "iopub.status.busy": "2021-06-25T13:31:20.125671Z",
          "iopub.execute_input": "2021-06-25T13:31:20.125913Z",
          "iopub.status.idle": "2021-06-25T13:31:20.137429Z",
          "shell.execute_reply.started": "2021-06-25T13:31:20.125890Z",
          "shell.execute_reply": "2021-06-25T13:31:20.136643Z"
        },
        "trusted": true,
        "id": "dxtg1FUR2fYr"
      },
      "source": [
        "# Get the list of all directories and sort them\n",
        "dir_list = next(os.walk(path))[1]  # next(os.walk(path)) returns a tuple ('path', [dir list], [.txt and otr files])\n",
        "dir_list.sort()"
      ],
      "execution_count": 7,
      "outputs": []
    },
    {
      "cell_type": "code",
      "metadata": {
        "execution": {
          "iopub.status.busy": "2021-06-25T13:31:20.139033Z",
          "iopub.execute_input": "2021-06-25T13:31:20.139418Z",
          "iopub.status.idle": "2021-06-25T13:31:20.218050Z",
          "shell.execute_reply.started": "2021-06-25T13:31:20.139383Z",
          "shell.execute_reply": "2021-06-25T13:31:20.217134Z"
        },
        "trusted": true,
        "id": "Oqx_kavd2fYr"
      },
      "source": [
        "# For each person segregate the genuine signatures from the forged signatures\n",
        "# Genuine signatures are stored in the list \"orig_groups\"\n",
        "# Forged signatures are stored i the list \"forged_groups\"\n",
        "orig_groups, forg_groups = [], []\n",
        "for directory in dir_list:\n",
        "    images = os.listdir(path+directory)\n",
        "    images.sort()\n",
        "    images = [path+directory+'/'+x for x in images]\n",
        "    forg_groups.append(images[:30]) # First 30 signatures in each folder are forged\n",
        "    orig_groups.append(images[30:]) # Next 24 signatures are genuine"
      ],
      "execution_count": 8,
      "outputs": []
    },
    {
      "cell_type": "code",
      "metadata": {
        "execution": {
          "iopub.status.busy": "2021-06-25T13:31:20.220865Z",
          "iopub.execute_input": "2021-06-25T13:31:20.221166Z",
          "iopub.status.idle": "2021-06-25T13:31:20.229984Z",
          "shell.execute_reply.started": "2021-06-25T13:31:20.221137Z",
          "shell.execute_reply": "2021-06-25T13:31:20.229090Z"
        },
        "trusted": true,
        "colab": {
          "base_uri": "https://localhost:8080/"
        },
        "id": "KsAFnZN-2fYs",
        "outputId": "b9b9321f-08ab-4b8a-b4a9-354f5b1b03e5"
      },
      "source": [
        "# Quick check to confirm we have data of all the 160 individuals\n",
        "len(orig_groups), len(forg_groups)"
      ],
      "execution_count": 9,
      "outputs": [
        {
          "output_type": "execute_result",
          "data": {
            "text/plain": [
              "(160, 160)"
            ]
          },
          "metadata": {
            "tags": []
          },
          "execution_count": 9
        }
      ]
    },
    {
      "cell_type": "code",
      "metadata": {
        "execution": {
          "iopub.status.busy": "2021-06-25T13:31:20.233177Z",
          "iopub.execute_input": "2021-06-25T13:31:20.233448Z",
          "iopub.status.idle": "2021-06-25T13:31:20.239273Z",
          "shell.execute_reply.started": "2021-06-25T13:31:20.233415Z",
          "shell.execute_reply": "2021-06-25T13:31:20.238383Z"
        },
        "trusted": true,
        "id": "j8ecW_5p2fYs"
      },
      "source": [
        "orig_lengths = [len(x) for x in orig_groups]\n",
        "forg_lengths = [len(x) for x in forg_groups]"
      ],
      "execution_count": 10,
      "outputs": []
    },
    {
      "cell_type": "code",
      "metadata": {
        "execution": {
          "iopub.status.busy": "2021-06-25T13:31:20.242376Z",
          "iopub.execute_input": "2021-06-25T13:31:20.242752Z",
          "iopub.status.idle": "2021-06-25T13:31:20.251085Z",
          "shell.execute_reply.started": "2021-06-25T13:31:20.242717Z",
          "shell.execute_reply": "2021-06-25T13:31:20.249953Z"
        },
        "trusted": true,
        "colab": {
          "base_uri": "https://localhost:8080/"
        },
        "id": "NYhphvap2fYt",
        "outputId": "1a4caadd-6ec8-455b-a108-768cc55c9e2b"
      },
      "source": [
        "# Quick check to confirm that there are 24 Genuine signatures for each individual\n",
        "print(orig_lengths)"
      ],
      "execution_count": 11,
      "outputs": [
        {
          "output_type": "stream",
          "text": [
            "[24, 24, 24, 24, 24, 24, 24, 24, 24, 24, 24, 24, 24, 24, 24, 24, 24, 24, 24, 24, 24, 24, 24, 24, 24, 24, 24, 24, 24, 24, 24, 24, 24, 24, 24, 24, 24, 24, 24, 24, 24, 24, 24, 24, 24, 24, 24, 24, 24, 24, 24, 24, 24, 24, 24, 24, 24, 24, 24, 24, 24, 24, 24, 24, 24, 24, 24, 24, 24, 24, 24, 24, 24, 24, 24, 24, 24, 24, 24, 24, 24, 24, 24, 24, 24, 24, 24, 24, 24, 24, 24, 24, 24, 24, 24, 24, 24, 24, 24, 24, 24, 24, 24, 24, 24, 24, 24, 24, 24, 24, 24, 24, 24, 24, 24, 24, 24, 24, 24, 24, 24, 24, 24, 24, 24, 24, 24, 24, 24, 24, 24, 24, 24, 24, 24, 24, 24, 24, 24, 24, 24, 24, 24, 24, 24, 24, 24, 24, 24, 24, 24, 24, 24, 24, 24, 24, 24, 24, 24, 24]\n"
          ],
          "name": "stdout"
        }
      ]
    },
    {
      "cell_type": "code",
      "metadata": {
        "execution": {
          "iopub.status.busy": "2021-06-25T13:31:20.253244Z",
          "iopub.execute_input": "2021-06-25T13:31:20.253673Z",
          "iopub.status.idle": "2021-06-25T13:31:20.264923Z",
          "shell.execute_reply.started": "2021-06-25T13:31:20.253624Z",
          "shell.execute_reply": "2021-06-25T13:31:20.263767Z"
        },
        "trusted": true,
        "colab": {
          "base_uri": "https://localhost:8080/"
        },
        "id": "BqVokQ8-2fYt",
        "outputId": "88d830ac-5c6b-49dd-a960-806df5a7c95d"
      },
      "source": [
        "# Quick check to confirm that there are 30 Forged signatures for each individual\n",
        "print(forg_lengths)"
      ],
      "execution_count": 12,
      "outputs": [
        {
          "output_type": "stream",
          "text": [
            "[30, 30, 30, 30, 30, 30, 30, 30, 30, 30, 30, 30, 30, 30, 30, 30, 30, 30, 30, 30, 30, 30, 30, 30, 30, 30, 30, 30, 30, 30, 30, 30, 30, 30, 30, 30, 30, 30, 30, 30, 30, 30, 30, 30, 30, 30, 30, 30, 30, 30, 30, 30, 30, 30, 30, 30, 30, 30, 30, 30, 30, 30, 30, 30, 30, 30, 30, 30, 30, 30, 30, 30, 30, 30, 30, 30, 30, 30, 30, 30, 30, 30, 30, 30, 30, 30, 30, 30, 30, 30, 30, 30, 30, 30, 30, 30, 30, 30, 30, 30, 30, 30, 30, 30, 30, 30, 30, 30, 30, 30, 30, 30, 30, 30, 30, 30, 30, 30, 30, 30, 30, 30, 30, 30, 30, 30, 30, 30, 30, 30, 30, 30, 30, 30, 30, 30, 30, 30, 30, 30, 30, 30, 30, 30, 30, 30, 30, 30, 30, 30, 30, 30, 30, 30, 30, 30, 30, 30, 30, 30]\n"
          ],
          "name": "stdout"
        }
      ]
    },
    {
      "cell_type": "code",
      "metadata": {
        "execution": {
          "iopub.status.busy": "2021-06-25T13:31:20.266353Z",
          "iopub.execute_input": "2021-06-25T13:31:20.266809Z",
          "iopub.status.idle": "2021-06-25T13:31:20.274355Z",
          "shell.execute_reply.started": "2021-06-25T13:31:20.266774Z",
          "shell.execute_reply": "2021-06-25T13:31:20.273456Z"
        },
        "trusted": true,
        "id": "bZ5HrrnS2fYu"
      },
      "source": [
        "# Data split for both Hindi and Bengali dataset (Comment the one you don't need)\n",
        "\n",
        "# For Hindi\n",
        "orig_train, orig_val, orig_test = orig_groups[:120], orig_groups[120:140], orig_groups[140:]\n",
        "forg_train, forg_val, forg_test = forg_groups[:120], forg_groups[120:140], forg_groups[140:]\n",
        "\n",
        "# For Bengali\n",
        "#orig_train, orig_val, orig_test = orig_groups[:70], orig_groups[70:85], orig_groups[85:]\n",
        "#forg_train, forg_val, forg_test = forg_groups[:70], forg_groups[70:85], forg_groups[85:]"
      ],
      "execution_count": 13,
      "outputs": []
    },
    {
      "cell_type": "code",
      "metadata": {
        "execution": {
          "iopub.status.busy": "2021-06-25T13:31:20.275158Z",
          "iopub.execute_input": "2021-06-25T13:31:20.275416Z",
          "iopub.status.idle": "2021-06-25T13:31:20.284572Z",
          "shell.execute_reply.started": "2021-06-25T13:31:20.275386Z",
          "shell.execute_reply": "2021-06-25T13:31:20.283623Z"
        },
        "trusted": true,
        "id": "2LzgUt7V2fYu"
      },
      "source": [
        "# All the images will be converted to the same size before processing\n",
        "img_h, img_w = 155, 220"
      ],
      "execution_count": 14,
      "outputs": []
    },
    {
      "cell_type": "code",
      "metadata": {
        "execution": {
          "iopub.status.busy": "2021-06-25T13:31:20.285727Z",
          "iopub.execute_input": "2021-06-25T13:31:20.286021Z",
          "iopub.status.idle": "2021-06-25T13:31:20.297808Z",
          "shell.execute_reply.started": "2021-06-25T13:31:20.285995Z",
          "shell.execute_reply": "2021-06-25T13:31:20.297033Z"
        },
        "trusted": true,
        "id": "lOvXi4Mp2fYv"
      },
      "source": [
        "def visualize_sample_signature():\n",
        "    '''Function to randomly select a signature from train set and\n",
        "    print two genuine copies and one forged copy'''\n",
        "    fig, (ax1, ax2, ax3) = plt.subplots(1, 3, figsize = (10, 10))\n",
        "    k = np.random.randint(len(orig_train))\n",
        "    orig_img_names = random.sample(orig_train[k], 2)\n",
        "    forg_img_name = random.sample(forg_train[k], 1)\n",
        "    orig_img1 = cv2.imread(orig_img_names[0], 0)\n",
        "    orig_img2 = cv2.imread(orig_img_names[1], 0)\n",
        "    forg_img = plt.imread(forg_img_name[0], 0)\n",
        "    orig_img1 = cv2.resize(orig_img1, (img_w, img_h))\n",
        "    orig_img2 = cv2.resize(orig_img2, (img_w, img_h))\n",
        "    forg_img = cv2.resize(forg_img, (img_w, img_h))\n",
        "\n",
        "    ax1.imshow(orig_img1, cmap = 'gray')\n",
        "    ax2.imshow(orig_img2, cmap = 'gray')\n",
        "    ax3.imshow(forg_img, cmap = 'gray')\n",
        "\n",
        "    ax1.set_title('Genuine Copy')\n",
        "    ax1.axis('off')\n",
        "    ax2.set_title('Genuine Copy')\n",
        "    ax2.axis('off')\n",
        "    ax3.set_title('Forged Copy')\n",
        "    ax3.axis('off')"
      ],
      "execution_count": 15,
      "outputs": []
    },
    {
      "cell_type": "code",
      "metadata": {
        "execution": {
          "iopub.status.busy": "2021-06-25T13:31:20.299168Z",
          "iopub.execute_input": "2021-06-25T13:31:20.299548Z",
          "iopub.status.idle": "2021-06-25T13:31:20.494331Z",
          "shell.execute_reply.started": "2021-06-25T13:31:20.299513Z",
          "shell.execute_reply": "2021-06-25T13:31:20.493410Z"
        },
        "trusted": true,
        "colab": {
          "base_uri": "https://localhost:8080/",
          "height": 163
        },
        "id": "yq9cV0Ab2fYv",
        "outputId": "a1fbebfe-b0b6-4dbb-9890-8235893a5e72"
      },
      "source": [
        "visualize_sample_signature()"
      ],
      "execution_count": 16,
      "outputs": [
        {
          "output_type": "display_data",
          "data": {
            "image/png": "[encoded data removed]",
            "text/plain": [
              "<Figure size 720x720 with 3 Axes>"
            ]
          },
          "metadata": {
            "tags": [],
            "needs_background": "light"
          }
        }
      ]
    },
    {
      "cell_type": "code",
      "metadata": {
        "execution": {
          "iopub.status.busy": "2021-06-25T13:31:20.495805Z",
          "iopub.execute_input": "2021-06-25T13:31:20.496202Z",
          "iopub.status.idle": "2021-06-25T13:31:20.513255Z",
          "shell.execute_reply.started": "2021-06-25T13:31:20.496163Z",
          "shell.execute_reply": "2021-06-25T13:31:20.512303Z"
        },
        "trusted": true,
        "id": "PNWQWFE-2fYw"
      },
      "source": [
        "def generate_batch(orig_groups, forg_groups, batch_size = 32):\n",
        "    '''Function to generate a batch of data with batch_size number of data points\n",
        "    Half of the data points will be Genuine-Genuine pairs and half will be Genuine-Forged pairs'''\n",
        "    while True:\n",
        "        orig_pairs = []\n",
        "        forg_pairs = []\n",
        "        gen_gen_labels = []\n",
        "        gen_for_labels = []\n",
        "        all_pairs = []\n",
        "        all_labels = []\n",
        "        \n",
        "        # Here we create pairs of Genuine-Genuine image names and Genuine-Forged image names\n",
        "        # For every person we have 24 genuine signatures, hence we have \n",
        "        # 24 choose 2 = 276 Genuine-Genuine image pairs for one person.\n",
        "        # To make Genuine-Forged pairs, we pair every Genuine signature of a person\n",
        "        # with 12 randomly sampled Forged signatures of the same person.\n",
        "        # Thus we make 24 * 12 = 288 Genuine-Forged image pairs for one person.\n",
        "        # In all we have 120 person's data in the training data.\n",
        "\n",
        "        # Total no. of Genuine-Genuine pairs = 120 * 276 = 33120 [HINDI]\n",
        "        # Total number of Genuine-Forged pairs = 120 * 288 = 34560 [HINDI]\n",
        "        # Total no. of data points = 33120 + 34560 = 67680 [HINDI]\n",
        "\n",
        "        # Total no. of Genuine-Genuine pairs = 70 * 276 = 19320 [BENGALI]\n",
        "        # Total number of Genuine-Forged pairs = 70 * 288 = 20160 [BENGALI]\n",
        "        # Total no. of data points = 19320 + 20160 = 39480 [BENGALI]\n",
        "        \n",
        "        for orig, forg in zip(orig_groups, forg_groups):\n",
        "            orig_pairs.extend(list(itertools.combinations(orig, 2)))\n",
        "            for i in range(len(forg)):\n",
        "                forg_pairs.extend(list(itertools.product(orig[i:i+1], random.sample(forg, 12))))\n",
        "        \n",
        "        # Label for Genuine-Genuine pairs is 1\n",
        "        # Label for Genuine-Forged pairs is 0\n",
        "        gen_gen_labels = [1]*len(orig_pairs)\n",
        "        gen_for_labels = [0]*len(forg_pairs)\n",
        "        \n",
        "        # Concatenate all the pairs together along with their labels and shuffle them\n",
        "        all_pairs = orig_pairs + forg_pairs\n",
        "        all_labels = gen_gen_labels + gen_for_labels\n",
        "        del orig_pairs, forg_pairs, gen_gen_labels, gen_for_labels\n",
        "        all_pairs, all_labels = shuffle(all_pairs, all_labels)\n",
        "        \n",
        "        # Note the lists above contain only the image names and\n",
        "        # actual images are loaded and yielded below in batches\n",
        "        # Below we prepare a batch of data points and yield the batch\n",
        "        # In each batch we load \"batch_size\" number of image pairs\n",
        "        # These images are then removed from the original set so that\n",
        "        # they are not added again in the next batch.\n",
        "        k = 0\n",
        "        pairs=[np.zeros((batch_size, img_h, img_w, 1)) for i in range(2)]\n",
        "        targets=np.zeros((batch_size,))\n",
        "        for ix, pair in enumerate(all_pairs):\n",
        "            img1 = cv2.imread(pair[0], 0)\n",
        "            img2 = cv2.imread(pair[1], 0)\n",
        "            img1 = cv2.resize(img1, (img_w, img_h))\n",
        "            img2 = cv2.resize(img2, (img_w, img_h))\n",
        "            img1 = np.array(img1, dtype = np.float64)\n",
        "            img2 = np.array(img2, dtype = np.float64)\n",
        "            img1 /= 255\n",
        "            img2 /= 255\n",
        "            img1 = img1[..., np.newaxis]\n",
        "            img2 = img2[..., np.newaxis]\n",
        "            pairs[0][k, :, :, :] = img1\n",
        "            pairs[1][k, :, :, :] = img2\n",
        "            targets[k] = all_labels[ix]\n",
        "            k += 1\n",
        "            if k == batch_size:\n",
        "                yield pairs, targets\n",
        "                k = 0\n",
        "                pairs=[np.zeros((batch_size, img_h, img_w, 1)) for i in range(2)]\n",
        "                targets=np.zeros((batch_size,))"
      ],
      "execution_count": 17,
      "outputs": []
    },
    {
      "cell_type": "code",
      "metadata": {
        "execution": {
          "iopub.status.busy": "2021-06-25T13:31:20.514759Z",
          "iopub.execute_input": "2021-06-25T13:31:20.515246Z",
          "iopub.status.idle": "2021-06-25T13:31:20.524429Z",
          "shell.execute_reply.started": "2021-06-25T13:31:20.515207Z",
          "shell.execute_reply": "2021-06-25T13:31:20.523372Z"
        },
        "trusted": true,
        "id": "dRgFl_Yz2fYx"
      },
      "source": [
        "def euclidean_distance(vects):\n",
        "    '''Compute Euclidean Distance between two vectors'''\n",
        "    x, y = vects\n",
        "    return K.sqrt(K.sum(K.square(x - y), axis=1, keepdims=True))"
      ],
      "execution_count": 18,
      "outputs": []
    },
    {
      "cell_type": "code",
      "metadata": {
        "execution": {
          "iopub.status.busy": "2021-06-25T13:31:20.526884Z",
          "iopub.execute_input": "2021-06-25T13:31:20.527363Z",
          "iopub.status.idle": "2021-06-25T13:31:20.534034Z",
          "shell.execute_reply.started": "2021-06-25T13:31:20.527331Z",
          "shell.execute_reply": "2021-06-25T13:31:20.532928Z"
        },
        "trusted": true,
        "id": "Fw_l_hMc2fYx"
      },
      "source": [
        "def eucl_dist_output_shape(shapes):\n",
        "    shape1, shape2 = shapes\n",
        "    return (shape1[0], 1)"
      ],
      "execution_count": 19,
      "outputs": []
    },
    {
      "cell_type": "code",
      "metadata": {
        "execution": {
          "iopub.status.busy": "2021-06-25T13:31:20.535025Z",
          "iopub.execute_input": "2021-06-25T13:31:20.535335Z",
          "iopub.status.idle": "2021-06-25T13:31:20.544306Z",
          "shell.execute_reply.started": "2021-06-25T13:31:20.535306Z",
          "shell.execute_reply": "2021-06-25T13:31:20.543283Z"
        },
        "trusted": true,
        "id": "2jdT_ed82fYy"
      },
      "source": [
        "def contrastive_loss(y_true, y_pred):\n",
        "    '''Contrastive loss from Hadsell-et-al.'06\n",
        "    http://yann.lecun.com/exdb/publis/pdf/hadsell-chopra-lecun-06.pdf\n",
        "    '''\n",
        "    margin = 1\n",
        "    return K.mean(y_true * K.square(y_pred) + (1 - y_true) * K.square(K.maximum(margin - y_pred, 0)))"
      ],
      "execution_count": 20,
      "outputs": []
    },
    {
      "cell_type": "markdown",
      "metadata": {
        "id": "HTyh588Z0n7X"
      },
      "source": [
        "**SigNet**"
      ]
    },
    {
      "cell_type": "code",
      "metadata": {
        "execution": {
          "iopub.status.busy": "2021-06-25T13:31:20.546693Z",
          "iopub.execute_input": "2021-06-25T13:31:20.546982Z",
          "iopub.status.idle": "2021-06-25T13:31:20.561344Z",
          "shell.execute_reply.started": "2021-06-25T13:31:20.546949Z",
          "shell.execute_reply": "2021-06-25T13:31:20.560287Z"
        },
        "trusted": true,
        "id": "Tg9PCKv72fYy"
      },
      "source": [
        "def Signet(input_shape):\n",
        "\n",
        "    seq = Sequential()\n",
        "    seq.add(Conv2D(96, kernel_size=(11, 11), activation='relu', name='conv1_1', strides=4, input_shape= input_shape, kernel_initializer='glorot_uniform'))\n",
        "    seq.add(BatchNormalization(epsilon=1e-06, axis=1, momentum=0.9))\n",
        "    seq.add(MaxPooling2D((3,3), strides=(2, 2)))    \n",
        "    seq.add(ZeroPadding2D((2, 2)))\n",
        "    \n",
        "    seq.add(Conv2D(256, kernel_size=(5, 5), activation='relu', name='conv2_1', strides=1, kernel_initializer='glorot_uniform'))\n",
        "    seq.add(BatchNormalization(epsilon=1e-06, axis=1, momentum=0.9))\n",
        "    seq.add(MaxPooling2D((3,3), strides=(2, 2)))\n",
        "    seq.add(Dropout(0.3))\n",
        "    seq.add(ZeroPadding2D((1, 1)))\n",
        "    \n",
        "    seq.add(Conv2D(384, kernel_size=(3, 3), activation='relu', name='conv3_1', strides=1, kernel_initializer='glorot_uniform'))\n",
        "    seq.add(ZeroPadding2D((1, 1)))\n",
        "    \n",
        "    seq.add(Conv2D(256, kernel_size=(3, 3), activation='relu', name='conv3_2', strides=1, kernel_initializer='glorot_uniform'))    \n",
        "    seq.add(MaxPooling2D((3,3), strides=(2, 2)))\n",
        "    seq.add(Dropout(0.3))\n",
        "    seq.add(Flatten(name='flatten'))\n",
        "    seq.add(Dense(1024, kernel_regularizer=l2(0.0005), activation='relu', kernel_initializer='glorot_uniform'))\n",
        "    seq.add(Dropout(0.5))\n",
        "    \n",
        "    seq.add(Dense(128, kernel_regularizer=l2(0.0005), activation='relu', kernel_initializer='glorot_uniform'))\n",
        "    \n",
        "    return seq"
      ],
      "execution_count": 71,
      "outputs": []
    },
    {
      "cell_type": "markdown",
      "metadata": {
        "id": "yexqGnk8Wqn1"
      },
      "source": [
        "**SmallCNN**\n",
        "\n",
        "*Avani Rateria and Suneeta Agarwal. Off-line signature verification through machine learning. In2018 5th IEEE Uttar Pradesh Section International Conference on Electrical, Electronics andComputer Engineering (UPCON), pages 1–7. IEEE, 2018.*"
      ]
    },
    {
      "cell_type": "code",
      "metadata": {
        "id": "w_DDvlegWk9l"
      },
      "source": [
        "def SmallCNN(input_shape):\n",
        "\n",
        "    seq = Sequential()\n",
        "\n",
        "    seq.add(Conv2D(40, kernel_size=(5, 5), activation='relu', name='conv_1', strides=1, input_shape= input_shape))\n",
        "    seq.add(MaxPooling2D((2,2), strides=(2, 2)))    \n",
        "    seq.add(Conv2D(30, kernel_size=(3, 3), activation='relu', name='conv_2', strides=1))\n",
        "    seq.add(Conv2D(20, kernel_size=(3, 3), activation='relu', name='conv_3', strides=1))\n",
        "\n",
        "    seq.add(Flatten(name='flatten'))\n",
        "    \n",
        "    seq.add(Dense(20, activation='relu'))\n",
        "    return seq"
      ],
      "execution_count": 22,
      "outputs": []
    },
    {
      "cell_type": "markdown",
      "metadata": {
        "id": "lrUJ2zIPWmC7"
      },
      "source": [
        "**CustomNET** (Self-made model)"
      ]
    },
    {
      "cell_type": "code",
      "metadata": {
        "id": "awuTbhtOmfcs"
      },
      "source": [
        "def customNET(input_shape):\n",
        "\n",
        "    seq = Sequential()\n",
        "\n",
        "    seq.add(Conv2D(69, kernel_size=(10, 10), activation='relu', name='conv1_1', strides=2, input_shape= input_shape, kernel_initializer='glorot_uniform'))\n",
        "    seq.add(BatchNormalization(epsilon=1e-06, axis=1, momentum=0.9)) \n",
        "\n",
        "    seq.add(Conv2D(49, kernel_size=(5, 5), activation='relu', name='conv1_2', strides=2, input_shape= input_shape, kernel_initializer='glorot_uniform'))  \n",
        "    seq.add(BatchNormalization(epsilon=1e-06, axis=1, momentum=0.9))\n",
        "\n",
        "    seq.add(Conv2D(29, kernel_size=(3, 3), activation='relu', name='conv1_3', strides=2, input_shape= input_shape, kernel_initializer='glorot_uniform'))  \n",
        "    seq.add(BatchNormalization(epsilon=1e-06, axis=1, momentum=0.9))\n",
        "\n",
        "    seq.add(Flatten(name='flatten'))\n",
        "\n",
        "    seq.add(Dense(12, kernel_regularizer=l2(0.0005), activation='relu', kernel_initializer='glorot_uniform'))\n",
        "    return seq"
      ],
      "execution_count": 23,
      "outputs": []
    },
    {
      "cell_type": "code",
      "metadata": {
        "execution": {
          "iopub.status.busy": "2021-06-25T13:31:20.562909Z",
          "iopub.execute_input": "2021-06-25T13:31:20.563361Z",
          "iopub.status.idle": "2021-06-25T13:31:20.572877Z",
          "shell.execute_reply.started": "2021-06-25T13:31:20.563322Z",
          "shell.execute_reply": "2021-06-25T13:31:20.571957Z"
        },
        "trusted": true,
        "id": "XNBieOlq2fYy"
      },
      "source": [
        "# input image shape\n",
        "input_shape=(img_h, img_w, 1)"
      ],
      "execution_count": 72,
      "outputs": []
    },
    {
      "cell_type": "code",
      "metadata": {
        "execution": {
          "iopub.status.busy": "2021-06-25T13:31:20.585593Z",
          "iopub.execute_input": "2021-06-25T13:31:20.585948Z",
          "iopub.status.idle": "2021-06-25T13:31:20.766247Z",
          "shell.execute_reply.started": "2021-06-25T13:31:20.585911Z",
          "shell.execute_reply": "2021-06-25T13:31:20.765412Z"
        },
        "trusted": true,
        "id": "leX1zh7_2fYz"
      },
      "source": [
        "# Creating the base network\n",
        "# Comment out the network to be used\n",
        "\n",
        "base_network = Signet(input_shape)\n",
        "#base_network = SmallCNN(input_shape)\n",
        "#base_network = CustomNET(input_shape)\n",
        "\n",
        "input_a = Input(shape=(input_shape))\n",
        "input_b = Input(shape=(input_shape))\n",
        "\n",
        "# Because we re-use the same instance `base_network`,\n",
        "# the weights of the network\n",
        "# will be shared across the two branches\n",
        "processed_a = base_network(input_a)\n",
        "processed_b = base_network(input_b)\n",
        "\n",
        "# Compute the Euclidean distance between the two vectors in the latent space\n",
        "distance = Lambda(euclidean_distance, output_shape=eucl_dist_output_shape)([processed_a, processed_b])\n",
        "\n",
        "model = Model(inputs=[input_a, input_b], outputs=distance)"
      ],
      "execution_count": 73,
      "outputs": []
    },
    {
      "cell_type": "code",
      "metadata": {
        "execution": {
          "iopub.status.busy": "2021-06-25T13:31:20.767442Z",
          "iopub.execute_input": "2021-06-25T13:31:20.767920Z",
          "iopub.status.idle": "2021-06-25T13:31:20.774510Z",
          "shell.execute_reply.started": "2021-06-25T13:31:20.767882Z",
          "shell.execute_reply": "2021-06-25T13:31:20.773269Z"
        },
        "trusted": true,
        "colab": {
          "base_uri": "https://localhost:8080/"
        },
        "id": "btpRNaU82fYz",
        "outputId": "e30343b7-95f2-40db-a19c-6616abcfa53a"
      },
      "source": [
        "# Calculating the sample sizes - Comment the dataset which is not being used\n",
        "\n",
        "# Hindi\n",
        "batch_sz = 128\n",
        "num_train_samples = 276*120 + 288*120\n",
        "num_val_samples = num_test_samples = 276*20 + 288*20\n",
        "num_train_samples, num_val_samples, num_test_samples\n",
        "\n",
        "# Bengali\n",
        "#batch_sz = 128\n",
        "#num_train_samples = 276*70 + 288*70\n",
        "#num_val_samples = num_test_samples = 276*15 + 288*15\n",
        "#num_train_samples, num_val_samples, num_test_samples"
      ],
      "execution_count": 74,
      "outputs": [
        {
          "output_type": "execute_result",
          "data": {
            "text/plain": [
              "(67680, 11280, 11280)"
            ]
          },
          "metadata": {
            "tags": []
          },
          "execution_count": 74
        }
      ]
    },
    {
      "cell_type": "code",
      "metadata": {
        "execution": {
          "iopub.status.busy": "2021-06-25T13:31:20.778817Z",
          "iopub.execute_input": "2021-06-25T13:31:20.779227Z",
          "iopub.status.idle": "2021-06-25T13:31:20.792489Z",
          "shell.execute_reply.started": "2021-06-25T13:31:20.779188Z",
          "shell.execute_reply": "2021-06-25T13:31:20.791640Z"
        },
        "trusted": true,
        "id": "_65nMHNp2fY0"
      },
      "source": [
        "# Compile model using RMSProp Optimizer and Contrastive loss function for SigNet and CustomCNN \n",
        "rms = RMSprop(learning_rate=1e-4, rho=0.9, epsilon=1e-08)\n",
        "model.compile(loss=contrastive_loss, optimizer=rms)"
      ],
      "execution_count": 75,
      "outputs": []
    },
    {
      "cell_type": "code",
      "metadata": {
        "id": "b1CJnBKhtENs"
      },
      "source": [
        "# Compile model using Adam Optimizer and Contrastive loss function for SmallCNN\n",
        "adam = keras.optimizers.Adam(learning_rate=1e-4, epsilon=1e-08)\n",
        "model.compile(loss=contrastive_loss, optimizer=adam)"
      ],
      "execution_count": null,
      "outputs": []
    },
    {
      "cell_type": "code",
      "metadata": {
        "execution": {
          "iopub.status.busy": "2021-06-25T13:31:20.795414Z",
          "iopub.execute_input": "2021-06-25T13:31:20.795694Z",
          "iopub.status.idle": "2021-06-25T13:31:20.800957Z",
          "shell.execute_reply.started": "2021-06-25T13:31:20.795669Z",
          "shell.execute_reply": "2021-06-25T13:31:20.800002Z"
        },
        "trusted": true,
        "id": "i9SNSjxC2fY0"
      },
      "source": [
        "# Using Keras Callbacks, save the model after every epoch\n",
        "# Reduce the learning rate by a factor of 0.1 if the validation loss does not improve for 5 epochs\n",
        "# Stop the training using early stopping if the validation loss does not improve for 10 epochs\n",
        "callbacks = [\n",
        "    EarlyStopping(monitor='val_loss',patience=10, verbose=1),\n",
        "    ReduceLROnPlateau(factor=0.1, patience=5, min_lr=0.000001, verbose=1),\n",
        "    tf.keras.callbacks.TensorBoard(log_dir='logs', write_graph=True, update_freq='epoch'),\n",
        "    ModelCheckpoint('./Weights.h5', monitor='val_loss', verbose=1, save_weights_only=True, save_best_only=True)\n",
        "]"
      ],
      "execution_count": 76,
      "outputs": []
    },
    {
      "cell_type": "code",
      "metadata": {
        "execution": {
          "iopub.status.busy": "2021-06-25T13:31:20.802586Z",
          "iopub.execute_input": "2021-06-25T13:31:20.803079Z",
          "iopub.status.idle": "2021-06-25T13:31:21.178748Z",
          "shell.execute_reply.started": "2021-06-25T13:31:20.803001Z",
          "shell.execute_reply": "2021-06-25T13:31:21.177722Z"
        },
        "collapsed": true,
        "jupyter": {
          "outputs_hidden": true
        },
        "trusted": true,
        "id": "KrWAK65C2fY0"
      },
      "source": [
        "# Network plot\n",
        "plot_model(model, to_file='model.png', show_shapes=True, show_layer_names=True, rankdir='TB', expand_nested=True, dpi=96)"
      ],
      "execution_count": null,
      "outputs": []
    },
    {
      "cell_type": "code",
      "metadata": {
        "id": "dykImkqGGRWh",
        "colab": {
          "base_uri": "https://localhost:8080/"
        },
        "outputId": "b01c49f1-1e91-461d-ae90-08ddb6b896f8"
      },
      "source": [
        "# Installing Visualkeras (Pictorial representation of the network)\n",
        "%pip install visualkeras"
      ],
      "execution_count": 78,
      "outputs": [
        {
          "output_type": "stream",
          "text": [
            "Requirement already satisfied: visualkeras in /usr/local/lib/python3.7/dist-packages (0.0.2)\n",
            "Requirement already satisfied: aggdraw>=1.3.11 in /usr/local/lib/python3.7/dist-packages (from visualkeras) (1.3.12)\n",
            "Requirement already satisfied: pillow>=6.2.0 in /usr/local/lib/python3.7/dist-packages (from visualkeras) (7.1.2)\n",
            "Requirement already satisfied: numpy>=1.18.1 in /usr/local/lib/python3.7/dist-packages (from visualkeras) (1.19.5)\n"
          ],
          "name": "stdout"
        }
      ]
    },
    {
      "cell_type": "code",
      "metadata": {
        "id": "aPxXfmzqFV5m",
        "colab": {
          "base_uri": "https://localhost:8080/",
          "height": 315
        },
        "outputId": "6b8237ea-9fd0-443d-982e-5e8f6ce22bb3"
      },
      "source": [
        "import visualkeras\n",
        "visualkeras.layered_view(base_network, legend=True, scale_xy=4, scale_z=0.05, to_file='network_struct.png')"
      ],
      "execution_count": 79,
      "outputs": [
        {
          "output_type": "execute_result",
          "data": {
            "image/png": "[encoded data removed]",
            "text/plain": [
              "<PIL.Image.Image image mode=RGBA size=813x298 at 0x7FA985014450>"
            ]
          },
          "metadata": {
            "tags": []
          },
          "execution_count": 79
        }
      ]
    },
    {
      "cell_type": "code",
      "metadata": {
        "id": "p1UrJ2EG8zj2"
      },
      "source": [
        "# Calling the Tensorboard\n",
        "%tensorboard --logdir logs"
      ],
      "execution_count": null,
      "outputs": []
    },
    {
      "cell_type": "markdown",
      "metadata": {
        "id": "gcVLdlpjh8mC"
      },
      "source": [
        "**Training and Validation**"
      ]
    },
    {
      "cell_type": "code",
      "metadata": {
        "execution": {
          "iopub.status.busy": "2021-06-25T13:31:21.180474Z",
          "iopub.execute_input": "2021-06-25T13:31:21.180999Z",
          "iopub.status.idle": "2021-06-25T15:39:13.090295Z",
          "shell.execute_reply.started": "2021-06-25T13:31:21.180951Z",
          "shell.execute_reply": "2021-06-25T15:39:13.089364Z"
        },
        "trusted": true,
        "id": "XsBdlC1z2fY1"
      },
      "source": [
        "results = model.fit(generate_batch(orig_train, forg_train, batch_sz),\n",
        "                              steps_per_epoch = num_train_samples//batch_sz,\n",
        "                              epochs = 100,\n",
        "                              validation_data = generate_batch(orig_val, forg_val, batch_sz),\n",
        "                              validation_steps = num_val_samples//batch_sz,\n",
        "                              callbacks = callbacks)"
      ],
      "execution_count": null,
      "outputs": []
    },
    {
      "cell_type": "markdown",
      "metadata": {
        "id": "5Zi84ZUaiCUa"
      },
      "source": [
        "**Testing**"
      ]
    },
    {
      "cell_type": "code",
      "metadata": {
        "execution": {
          "iopub.status.busy": "2021-06-25T16:28:21.211772Z",
          "iopub.execute_input": "2021-06-25T16:28:21.212138Z",
          "iopub.status.idle": "2021-06-25T16:28:21.219128Z",
          "shell.execute_reply.started": "2021-06-25T16:28:21.212105Z",
          "shell.execute_reply": "2021-06-25T16:28:21.218097Z"
        },
        "trusted": true,
        "id": "CWZT1DSx2fY2"
      },
      "source": [
        "# Function to compute accuracy\n",
        "def compute_accuracy_roc(predictions, labels):\n",
        "    '''Compute ROC accuracy with a range of thresholds on distances.\n",
        "    '''\n",
        "    dmax = np.max(predictions)\n",
        "    dmin = np.min(predictions)\n",
        "    nsame = np.sum(labels == 1)\n",
        "    ndiff = np.sum(labels == 0)\n",
        "   \n",
        "    step = 0.01\n",
        "    max_acc = 0\n",
        "    best_thresh = -1\n",
        "   \n",
        "    for d in np.arange(dmin, dmax+step, step):\n",
        "        idx1 = predictions.ravel() <= d\n",
        "        idx2 = predictions.ravel() > d\n",
        "     \n",
        "        tpr = float(np.sum(labels[idx1] == 1)) / nsame       \n",
        "        tnr = float(np.sum(labels[idx2] == 0)) / ndiff\n",
        "        acc = 0.5 * (tpr + tnr)       \n",
        "       \n",
        "        if (acc > max_acc):\n",
        "            max_acc, best_thresh, best_tpr, best_tnr = acc, d, tpr, tnr\n",
        "           \n",
        "    return max_acc, best_thresh, best_tpr, best_tnr"
      ],
      "execution_count": 81,
      "outputs": []
    },
    {
      "cell_type": "code",
      "metadata": {
        "execution": {
          "iopub.status.busy": "2021-06-25T15:39:13.114923Z",
          "iopub.execute_input": "2021-06-25T15:39:13.115393Z",
          "iopub.status.idle": "2021-06-25T15:39:13.156275Z",
          "shell.execute_reply.started": "2021-06-25T15:39:13.115350Z",
          "shell.execute_reply": "2021-06-25T15:39:13.155521Z"
        },
        "trusted": true,
        "id": "VB1wZH8R2fY2"
      },
      "source": [
        "# Loading the best weights to the model\n",
        "model.load_weights('./Weights.h5')"
      ],
      "execution_count": 82,
      "outputs": []
    },
    {
      "cell_type": "code",
      "metadata": {
        "execution": {
          "iopub.status.busy": "2021-06-25T15:39:13.157358Z",
          "iopub.execute_input": "2021-06-25T15:39:13.157701Z",
          "iopub.status.idle": "2021-06-25T15:49:07.441516Z",
          "shell.execute_reply.started": "2021-06-25T15:39:13.157666Z",
          "shell.execute_reply": "2021-06-25T15:49:07.440636Z"
        },
        "trusted": true,
        "id": "3yUEAnlB2fY2"
      },
      "source": [
        "# Testing\n",
        "test_gen = generate_batch(orig_test, forg_test, 1)\n",
        "pred, tr_y = [], []\n",
        "for i, j in enumerate(range(num_test_samples)):\n",
        "    (img1, img2), label = next(test_gen)\n",
        "    tr_y.append(label)\n",
        "    pred.append(model.predict([img1, img2])[0][0])"
      ],
      "execution_count": 83,
      "outputs": []
    },
    {
      "cell_type": "code",
      "metadata": {
        "execution": {
          "iopub.status.busy": "2021-06-25T16:28:23.711769Z",
          "iopub.execute_input": "2021-06-25T16:28:23.712110Z",
          "iopub.status.idle": "2021-06-25T16:28:23.780306Z",
          "shell.execute_reply.started": "2021-06-25T16:28:23.712078Z",
          "shell.execute_reply": "2021-06-25T16:28:23.779344Z"
        },
        "trusted": true,
        "id": "q3ZY0t3q2fY2"
      },
      "source": [
        "# Accuracy, Threshold, TPR & TNR (Best) \n",
        "tr_acc, threshold, best_tpr, best_tnr = compute_accuracy_roc(np.array(pred), np.array(tr_y))\n",
        "print(\"Accuracy: \", tr_acc, \"\\nThreshold: \", threshold, \"\\nTPR: \", best_tpr,\"\\nTNR: \", best_tnr)"
      ],
      "execution_count": null,
      "outputs": []
    },
    {
      "cell_type": "code",
      "metadata": {
        "execution": {
          "iopub.status.busy": "2021-06-25T15:49:07.512297Z",
          "iopub.execute_input": "2021-06-25T15:49:07.512778Z",
          "iopub.status.idle": "2021-06-25T15:49:07.520237Z",
          "shell.execute_reply.started": "2021-06-25T15:49:07.512740Z",
          "shell.execute_reply": "2021-06-25T15:49:07.519213Z"
        },
        "trusted": true,
        "id": "s8trH1wh2fY3"
      },
      "source": [
        "# Predict distance score and classify test images as Genuine or Forged\n",
        "def predict_score():\n",
        "    test_point, test_label = next(test_gen)\n",
        "    img1, img2 = test_point[0], test_point[1]\n",
        "    \n",
        "    fig, (ax1, ax2) = plt.subplots(1, 2, figsize = (10, 10))\n",
        "    ax1.imshow(np.squeeze(img1), cmap='gray')\n",
        "    ax2.imshow(np.squeeze(img2), cmap='gray')\n",
        "    ax1.set_title('Genuine')\n",
        "    if test_label == 1:\n",
        "        ax2.set_title('Genuine')\n",
        "    else:\n",
        "        ax2.set_title('Forged')\n",
        "    ax1.axis('off')\n",
        "    ax2.axis('off')\n",
        "    plt.show()\n",
        "    result = model.predict([img1, img2])\n",
        "    diff = result[0][0]\n",
        "    print(\"Difference Score = \", diff)\n",
        "    if diff > threshold:\n",
        "        print(\"Its a Forged Signature\")\n",
        "    else:\n",
        "        print(\"Its a Genuine Signature\")"
      ],
      "execution_count": 87,
      "outputs": []
    },
    {
      "cell_type": "code",
      "metadata": {
        "execution": {
          "iopub.status.busy": "2021-06-25T15:49:07.521314Z",
          "iopub.execute_input": "2021-06-25T15:49:07.521861Z",
          "iopub.status.idle": "2021-06-25T15:49:07.703408Z",
          "shell.execute_reply.started": "2021-06-25T15:49:07.521820Z",
          "shell.execute_reply": "2021-06-25T15:49:07.702528Z"
        },
        "trusted": true,
        "id": "fSu6hABS2fY4",
        "colab": {
          "base_uri": "https://localhost:8080/",
          "height": 260
        },
        "outputId": "68bcc04a-5169-4c26-ad05-4c4ecfdd56b4"
      },
      "source": [
        "predict_score()"
      ],
      "execution_count": 88,
      "outputs": [
        {
          "output_type": "display_data",
          "data": {
            "image/png": "[encoded data removed]",
            "text/plain": [
              "<Figure size 720x720 with 2 Axes>"
            ]
          },
          "metadata": {
            "tags": []
          }
        },
        {
          "output_type": "stream",
          "text": [
            "Difference Score =  0.029860467\n",
            "Its a Genuine Signature\n"
          ],
          "name": "stdout"
        }
      ]
    },
    {
      "cell_type": "markdown",
      "metadata": {
        "id": "AqTqG1shAE3c"
      },
      "source": [
        "**Plotting**"
      ]
    },
    {
      "cell_type": "code",
      "metadata": {
        "execution": {
          "iopub.status.busy": "2021-06-25T16:11:48.453198Z",
          "iopub.execute_input": "2021-06-25T16:11:48.453522Z",
          "iopub.status.idle": "2021-06-25T16:11:48.614592Z",
          "shell.execute_reply.started": "2021-06-25T16:11:48.453493Z",
          "shell.execute_reply": "2021-06-25T16:11:48.613859Z"
        },
        "trusted": true,
        "id": "h7tDKCXu2fY1"
      },
      "source": [
        "# Loss plot\n",
        "plt.plot(range(len(results.history['loss'])), results.history['loss'], label=\"tr_loss\")\n",
        "plt.plot(range(len(results.history['val_loss'])), results.history['val_loss'], label=\"val_loss\")\n",
        "plt.plot(range(len(results.history[ 'lr'])), results.history['lr'], label=\"learning rate\")\n",
        "\n",
        "plt.xlabel(\"Epochs\")\n",
        "plt.legend()\n",
        "plt.grid(True)\n",
        "plt.savefig(\"lossplot.png\",dpi=300)\n",
        "plt.show()"
      ],
      "execution_count": null,
      "outputs": []
    },
    {
      "cell_type": "code",
      "metadata": {
        "id": "UpNNytN6Ne0w"
      },
      "source": [
        "# Confusion Matrix\n",
        "# Gen-Forged pair (0) \n",
        "# Gen-Gen pair (1) \n",
        "\n",
        "orig_labels = np.array(tr_y)\n",
        "pred_labels = np.array(pred)\n",
        "TP, TN, FP, FN = 0, 0, 0, 0\n",
        "\n",
        "for i, j in zip(orig_labels, pred_labels):\n",
        "  if i[0]==0 and j>=threshold:\n",
        "    TN+=1\n",
        "  if i[0]==0 and j<threshold:\n",
        "    FP+=1\n",
        "  if i[0]==1 and j<threshold:\n",
        "    TP+=1\n",
        "  if i[0]==1 and j>=threshold:\n",
        "    FN+=1\n",
        "\n",
        "array = [[TP,FP],\n",
        "         [FN,TN]]\n",
        "\n",
        "df_cm = pd.DataFrame(array, range(2), range(2))\n",
        "plt.figure(dpi=150)\n",
        "sn.set(font_scale=1)\n",
        "sn.heatmap(df_cm, annot=True, annot_kws={\"size\": 15}, fmt='g', xticklabels=['1 (actual)','0 (actual)'], yticklabels=['1 (pred)','0 (pred)'])\n",
        "plt.savefig(\"confmat.png\",dpi=300)\n",
        "plt.show()"
      ],
      "execution_count": null,
      "outputs": []
    }
  ]
}
